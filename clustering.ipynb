{
 "cells": [
  {
   "cell_type": "markdown",
   "metadata": {},
   "source": [
    "## Import libraries\n"
   ]
  },
  {
   "cell_type": "code",
   "execution_count": 2,
   "metadata": {},
   "outputs": [],
   "source": [
    "import pandas as pd\n",
    "from gensim.models import Word2Vec\n",
    "import numpy as np\n",
    "import re\n",
    "import nltk\n",
    "#nltk.download('punkt')\n",
    "from nltk.tokenize import word_tokenize  \n",
    "import matplotlib.pyplot as plt\n",
    "from nltk.corpus import stopwords\n",
    "from sklearn.feature_extraction.text import TfidfVectorizer as tfidf\n",
    "from sklearn.cluster import KMeans\n",
    "from sklearn.metrics import silhouette_score as sc\n",
    "import tensorflow as tf\n",
    "import numpy as np\n",
    "from sklearn.decomposition import PCA\n",
    "from sklearn.metrics import pairwise_distances as p_dist"
   ]
  },
  {
   "cell_type": "code",
   "execution_count": 1,
   "metadata": {},
   "outputs": [],
   "source": [
    "!pip install wrapt --upgrade --ignore-installed\n",
    "!pip install tensorflow"
   ]
  },
  {
   "cell_type": "markdown",
   "metadata": {},
   "source": [
    "## Explore data"
   ]
  },
  {
   "cell_type": "code",
   "execution_count": 3,
   "metadata": {},
   "outputs": [
    {
     "data": {
      "text/html": [
       "<div>\n",
       "<style scoped>\n",
       "    .dataframe tbody tr th:only-of-type {\n",
       "        vertical-align: middle;\n",
       "    }\n",
       "\n",
       "    .dataframe tbody tr th {\n",
       "        vertical-align: top;\n",
       "    }\n",
       "\n",
       "    .dataframe thead th {\n",
       "        text-align: right;\n",
       "    }\n",
       "</style>\n",
       "<table border=\"1\" class=\"dataframe\">\n",
       "  <thead>\n",
       "    <tr style=\"text-align: right;\">\n",
       "      <th></th>\n",
       "      <th>Country_Name</th>\n",
       "      <th>Country Code</th>\n",
       "      <th>Indicator_Name</th>\n",
       "      <th>Indicator_Code</th>\n",
       "      <th>1960</th>\n",
       "      <th>1961</th>\n",
       "      <th>1962</th>\n",
       "      <th>1963</th>\n",
       "      <th>1964</th>\n",
       "      <th>1965</th>\n",
       "      <th>...</th>\n",
       "      <th>2011</th>\n",
       "      <th>2012</th>\n",
       "      <th>2013</th>\n",
       "      <th>2014</th>\n",
       "      <th>2015</th>\n",
       "      <th>2016</th>\n",
       "      <th>2017</th>\n",
       "      <th>2018</th>\n",
       "      <th>2019</th>\n",
       "      <th>2020</th>\n",
       "    </tr>\n",
       "  </thead>\n",
       "  <tbody>\n",
       "    <tr>\n",
       "      <th>0</th>\n",
       "      <td>Arab World</td>\n",
       "      <td>ARB</td>\n",
       "      <td>Access to clean fuels and technologies for coo...</td>\n",
       "      <td>EG.CFT.ACCS.ZS</td>\n",
       "      <td>NaN</td>\n",
       "      <td>NaN</td>\n",
       "      <td>NaN</td>\n",
       "      <td>NaN</td>\n",
       "      <td>NaN</td>\n",
       "      <td>NaN</td>\n",
       "      <td>...</td>\n",
       "      <td>82.783289</td>\n",
       "      <td>83.120303</td>\n",
       "      <td>83.533457</td>\n",
       "      <td>83.897596</td>\n",
       "      <td>84.171599</td>\n",
       "      <td>84.510171</td>\n",
       "      <td>NaN</td>\n",
       "      <td>NaN</td>\n",
       "      <td>NaN</td>\n",
       "      <td>NaN</td>\n",
       "    </tr>\n",
       "    <tr>\n",
       "      <th>1</th>\n",
       "      <td>Arab World</td>\n",
       "      <td>ARB</td>\n",
       "      <td>Access to electricity (% of population)</td>\n",
       "      <td>EG.ELC.ACCS.ZS</td>\n",
       "      <td>NaN</td>\n",
       "      <td>NaN</td>\n",
       "      <td>NaN</td>\n",
       "      <td>NaN</td>\n",
       "      <td>NaN</td>\n",
       "      <td>NaN</td>\n",
       "      <td>...</td>\n",
       "      <td>87.199474</td>\n",
       "      <td>87.512260</td>\n",
       "      <td>88.129881</td>\n",
       "      <td>87.275323</td>\n",
       "      <td>88.720097</td>\n",
       "      <td>89.308602</td>\n",
       "      <td>90.283638</td>\n",
       "      <td>89.286856</td>\n",
       "      <td>NaN</td>\n",
       "      <td>NaN</td>\n",
       "    </tr>\n",
       "    <tr>\n",
       "      <th>2</th>\n",
       "      <td>Arab World</td>\n",
       "      <td>ARB</td>\n",
       "      <td>Access to electricity, rural (% of rural popul...</td>\n",
       "      <td>EG.ELC.ACCS.RU.ZS</td>\n",
       "      <td>NaN</td>\n",
       "      <td>NaN</td>\n",
       "      <td>NaN</td>\n",
       "      <td>NaN</td>\n",
       "      <td>NaN</td>\n",
       "      <td>NaN</td>\n",
       "      <td>...</td>\n",
       "      <td>75.958878</td>\n",
       "      <td>77.251714</td>\n",
       "      <td>78.165706</td>\n",
       "      <td>75.512153</td>\n",
       "      <td>78.211000</td>\n",
       "      <td>79.065508</td>\n",
       "      <td>81.102134</td>\n",
       "      <td>79.248100</td>\n",
       "      <td>NaN</td>\n",
       "      <td>NaN</td>\n",
       "    </tr>\n",
       "    <tr>\n",
       "      <th>3</th>\n",
       "      <td>Arab World</td>\n",
       "      <td>ARB</td>\n",
       "      <td>Access to electricity, urban (% of urban popul...</td>\n",
       "      <td>EG.ELC.ACCS.UR.ZS</td>\n",
       "      <td>NaN</td>\n",
       "      <td>NaN</td>\n",
       "      <td>NaN</td>\n",
       "      <td>NaN</td>\n",
       "      <td>NaN</td>\n",
       "      <td>NaN</td>\n",
       "      <td>...</td>\n",
       "      <td>96.466418</td>\n",
       "      <td>96.435957</td>\n",
       "      <td>96.772853</td>\n",
       "      <td>96.466705</td>\n",
       "      <td>96.936319</td>\n",
       "      <td>97.290083</td>\n",
       "      <td>97.467915</td>\n",
       "      <td>97.063959</td>\n",
       "      <td>NaN</td>\n",
       "      <td>NaN</td>\n",
       "    </tr>\n",
       "    <tr>\n",
       "      <th>4</th>\n",
       "      <td>Arab World</td>\n",
       "      <td>ARB</td>\n",
       "      <td>Account ownership at a financial institution o...</td>\n",
       "      <td>FX.OWN.TOTL.ZS</td>\n",
       "      <td>NaN</td>\n",
       "      <td>NaN</td>\n",
       "      <td>NaN</td>\n",
       "      <td>NaN</td>\n",
       "      <td>NaN</td>\n",
       "      <td>NaN</td>\n",
       "      <td>...</td>\n",
       "      <td>22.260538</td>\n",
       "      <td>NaN</td>\n",
       "      <td>NaN</td>\n",
       "      <td>30.277130</td>\n",
       "      <td>NaN</td>\n",
       "      <td>NaN</td>\n",
       "      <td>37.165211</td>\n",
       "      <td>NaN</td>\n",
       "      <td>NaN</td>\n",
       "      <td>NaN</td>\n",
       "    </tr>\n",
       "  </tbody>\n",
       "</table>\n",
       "<p>5 rows × 65 columns</p>\n",
       "</div>"
      ],
      "text/plain": [
       "  Country_Name Country Code  \\\n",
       "0   Arab World          ARB   \n",
       "1   Arab World          ARB   \n",
       "2   Arab World          ARB   \n",
       "3   Arab World          ARB   \n",
       "4   Arab World          ARB   \n",
       "\n",
       "                                      Indicator_Name     Indicator_Code  1960  \\\n",
       "0  Access to clean fuels and technologies for coo...     EG.CFT.ACCS.ZS   NaN   \n",
       "1            Access to electricity (% of population)     EG.ELC.ACCS.ZS   NaN   \n",
       "2  Access to electricity, rural (% of rural popul...  EG.ELC.ACCS.RU.ZS   NaN   \n",
       "3  Access to electricity, urban (% of urban popul...  EG.ELC.ACCS.UR.ZS   NaN   \n",
       "4  Account ownership at a financial institution o...     FX.OWN.TOTL.ZS   NaN   \n",
       "\n",
       "   1961  1962  1963  1964  1965  ...        2011       2012       2013  \\\n",
       "0   NaN   NaN   NaN   NaN   NaN  ...   82.783289  83.120303  83.533457   \n",
       "1   NaN   NaN   NaN   NaN   NaN  ...   87.199474  87.512260  88.129881   \n",
       "2   NaN   NaN   NaN   NaN   NaN  ...   75.958878  77.251714  78.165706   \n",
       "3   NaN   NaN   NaN   NaN   NaN  ...   96.466418  96.435957  96.772853   \n",
       "4   NaN   NaN   NaN   NaN   NaN  ...   22.260538        NaN        NaN   \n",
       "\n",
       "        2014       2015       2016       2017       2018  2019  2020  \n",
       "0  83.897596  84.171599  84.510171        NaN        NaN   NaN   NaN  \n",
       "1  87.275323  88.720097  89.308602  90.283638  89.286856   NaN   NaN  \n",
       "2  75.512153  78.211000  79.065508  81.102134  79.248100   NaN   NaN  \n",
       "3  96.466705  96.936319  97.290083  97.467915  97.063959   NaN   NaN  \n",
       "4  30.277130        NaN        NaN  37.165211        NaN   NaN   NaN  \n",
       "\n",
       "[5 rows x 65 columns]"
      ]
     },
     "execution_count": 3,
     "metadata": {},
     "output_type": "execute_result"
    }
   ],
   "source": [
    "#pd.set_option('display.max_columns',None)\n",
    "df = pd.read_csv(\"C:/Users/Gunisha Chaturvedi/Dropbox/My PC (LAPTOP-1CT80JS5)/Documents/minor/WDIEXCEL2.csv\")\n",
    "df.head()"
   ]
  },
  {
   "cell_type": "code",
   "execution_count": 3,
   "metadata": {},
   "outputs": [
    {
     "name": "stdout",
     "output_type": "stream",
     "text": [
      "Shape: (132948, 65)\n",
      "Unique indicators: 1440\n",
      "Unique countries: 133\n",
      "Frequency of each indicator: Agricultural methane emissions (thousand metric tons of CO2 equivalent)                                                   133\n",
      "Rural population                                                                                                          133\n",
      "Renewable electricity output (% of total electricity output)                                                              133\n",
      "Population, total                                                                                                         133\n",
      "Rural population (% of total population)                                                                                  133\n",
      "People practicing open defecation (% of population)                                                                       133\n",
      "Land area (sq. km)                                                                                                        133\n",
      "Nitrous oxide emissions in energy sector (thousand metric tons of CO2 equivalent)                                         133\n",
      "Capture fisheries production (metric tons)                                                                                133\n",
      "Methane emissions in energy sector (thousand metric tons of CO2 equivalent)                                               133\n",
      "International migrant stock (% of population)                                                                             133\n",
      "Population growth (annual %)                                                                                              133\n",
      "People using at least basic drinking water services (% of population)                                                     133\n",
      "International migrant stock, total                                                                                        133\n",
      "Population density (people per sq. km of land area)                                                                       133\n",
      "Agricultural nitrous oxide emissions (thousand metric tons of CO2 equivalent)                                             133\n",
      "People using at least basic sanitation services (% of population)                                                         133\n",
      "Urban population growth (annual %)                                                                                        132\n",
      "Mammal species, threatened                                                                                                132\n",
      "Fixed telephone subscriptions (per 100 people)                                                                            132\n",
      "Renewable energy consumption (% of total final energy consumption)                                                        132\n",
      "Surface area (sq. km)                                                                                                     132\n",
      "Total fisheries production (metric tons)                                                                                  132\n",
      "Mobile cellular subscriptions                                                                                             132\n",
      "Urban population                                                                                                          132\n",
      "Urban population (% of total population)                                                                                  132\n",
      "Fish species, threatened                                                                                                  132\n",
      "Plant species (higher), threatened                                                                                        132\n",
      "Mobile cellular subscriptions (per 100 people)                                                                            132\n",
      "Fixed telephone subscriptions                                                                                             132\n",
      "                                                                                                                         ... \n",
      "Children in employment, self-employed, female (% of female children in employment, ages 7-14)                              19\n",
      "Children in employment, self-employed, male (% of male children in employment, ages 7-14)                                  19\n",
      "Children in employment, self-employed (% of children in employment, ages 7-14)                                             19\n",
      "Public private partnerships investment in ICT (current US$)                                                                17\n",
      "Average transaction cost of sending remittances from a specific country (%)                                                16\n",
      "Multidimensional poverty headcount ratio, children (% of population ages 0-17)                                             16\n",
      "Adequacy of unemployment benefits and ALMP (% of total welfare of beneficiary households)                                  15\n",
      "Benefit incidence of unemployment benefits and ALMP to poorest quintile (% of total U/ALMP benefits)                       15\n",
      "Female genital mutilation prevalence (%)                                                                                   14\n",
      "Multidimensional poverty headcount ratio, male (% of male population)                                                      14\n",
      "Multidimensional poverty headcount ratio, female (% of female population)                                                  14\n",
      "Number of people spending more than 10% of household consumption or income on out-of-pocket health care expenditure        12\n",
      "Number of people pushed below the $1.90 ($ 2011 PPP) poverty line by out-of-pocket health care expenditure                 12\n",
      "Proportion of population pushed below the $3.20 ($ 2011 PPP) poverty line by out-of-pocket health care expenditure (%)     12\n",
      "Number of people spending more than 25% of household consumption or income on out-of-pocket health care expenditure        12\n",
      "Number of people pushed below the $3.20 ($ 2011 PPP) poverty line by out-of-pocket health care expenditure                 12\n",
      "Multidimensional poverty intensity (average share of deprivations experienced by the poor)                                 11\n",
      "Net ODA provided, total (% of GNI)                                                                                         10\n",
      "Net ODA provided, total (constant 2015 US$)                                                                                10\n",
      "Net ODA provided, total (current US$)                                                                                      10\n",
      "Net ODA provided to the least developed countries (% of GNI)                                                               10\n",
      "Net primary income (Net income from abroad) (constant LCU)                                                                 10\n",
      "Net ODA provided, to the least developed countries (current US$)                                                           10\n",
      "Multidimensional poverty index (scale 0-1)                                                                                  8\n",
      "Presence of peace keepers (number of troops, police, and military observers in mandate)                                     8\n",
      "Multidimensional poverty headcount ratio, household (% of total households)                                                 8\n",
      "Investment in ICT with private participation (current US$)                                                                  8\n",
      "Wholesale price index (2010 = 100)                                                                                          7\n",
      "Net official flows from UN agencies, UNEP (current US$)                                                                     4\n",
      "Multidimensional poverty index, children (population ages 0-17) (scale 0-1)                                                 2\n",
      "Name: Indicator_Name, Length: 1440, dtype: int64\n"
     ]
    }
   ],
   "source": [
    "print(\"Shape:\",df.shape)\n",
    "\n",
    "#get unique indicator values\n",
    "indi_unique = len(list(df.Indicator_Name.unique()))\n",
    "print(\"Unique indicators:\",indi_unique)\n",
    "\n",
    "#get unique indicator names\n",
    "country_unique = len(list(df.Country_Name.unique()))\n",
    "print(\"Unique countries:\",country_unique)\n",
    "\n",
    "#frequency of each unique indicator\n",
    "print(\"Frequency of each indicator:\",df['Indicator_Name'].value_counts())"
   ]
  },
  {
   "cell_type": "markdown",
   "metadata": {},
   "source": [
    "### It can be concluded that the distribution of indicators is uneven because some rows have been removed from the original dataset as a part of cleaning."
   ]
  },
  {
   "cell_type": "markdown",
   "metadata": {},
   "source": [
    "## Clean data "
   ]
  },
  {
   "cell_type": "code",
   "execution_count": 3,
   "metadata": {},
   "outputs": [],
   "source": [
    "#check for rows which have null values for all years \n",
    "df1=df[df.loc[:,'1960':'2020'].isnull().all(axis=1)]\n",
    "\n",
    "#get column wise sum of null values\n",
    "print(df.isnull().sum().sort_values(ascending=False))\n",
    "\n",
    "#remove those rows\n",
    "df.drop(list(df1.index),inplace=True)\n",
    "print(df.shape)\n",
    "df.to_csv('C:/Users/hp1/Documents/minor/WDIEXCEL2.csv')"
   ]
  },
  {
   "cell_type": "code",
   "execution_count": 4,
   "metadata": {},
   "outputs": [],
   "source": [
    "def clean_data(df_new):\n",
    "    stop_words = set(stopwords.words('english'))\n",
    "    for i in range(0,df_new.size):\n",
    "        df_new[i]=re.sub('\\(.*?\\)',\"\",df_new[i])        #remove content within brackets\n",
    "        df_new[i] = re.sub(r'[^\\w\\s]',\"\", df_new[i])    #remove punctuations\n",
    "        df_new[i]= re.sub('\\d',\"\",df_new[i])           #remove numbers\n",
    "        word_tokens = word_tokenize(df_new[i])\n",
    "        df_new[i]=\" \".join(filter(lambda x: x not in stop_words , word_tokens))   #remove stop words\n",
    "    return df_new"
   ]
  },
  {
   "cell_type": "code",
   "execution_count": 5,
   "metadata": {},
   "outputs": [
    {
     "data": {
      "text/plain": [
       "array(['Access clean fuels technologies cooking', 'Access electricity',\n",
       "       'Access electricity rural', ..., 'Net ODA provided total',\n",
       "       'Net primary income', 'Female genital mutilation prevalence'],\n",
       "      dtype=object)"
      ]
     },
     "execution_count": 5,
     "metadata": {},
     "output_type": "execute_result"
    }
   ],
   "source": [
    "unique_indicators = df.Indicator_Name.unique()\n",
    "unique_indicators = clean_data (unique_indicators)\n",
    "unique_indicators"
   ]
  },
  {
   "cell_type": "markdown",
   "metadata": {},
   "source": [
    "### Trying word2vec on data"
   ]
  },
  {
   "cell_type": "code",
   "execution_count": 3,
   "metadata": {
    "scrolled": true
   },
   "outputs": [],
   "source": [
    "text_data = unique_indicators.tolist()"
   ]
  },
  {
   "cell_type": "code",
   "execution_count": 4,
   "metadata": {},
   "outputs": [],
   "source": [
    "def convert (text_data):\n",
    "    for i in range (0,len(text_data)):\n",
    "        text_data[i] = text_data[i].split()\n",
    "    return text_data\n",
    "text_data = convert (text_data)"
   ]
  },
  {
   "cell_type": "code",
   "execution_count": 8,
   "metadata": {
    "scrolled": true
   },
   "outputs": [],
   "source": [
    "model = Word2Vec(text_data, min_count=1, size=4)"
   ]
  },
  {
   "cell_type": "code",
   "execution_count": 9,
   "metadata": {},
   "outputs": [],
   "source": [
    "model.save('model1')"
   ]
  },
  {
   "cell_type": "code",
   "execution_count": 65,
   "metadata": {},
   "outputs": [
    {
     "data": {
      "text/plain": [
       "1127"
      ]
     },
     "execution_count": 65,
     "metadata": {},
     "output_type": "execute_result"
    }
   ],
   "source": [
    "len(model.wv.vocab)"
   ]
  },
  {
   "cell_type": "code",
   "execution_count": 14,
   "metadata": {},
   "outputs": [
    {
     "data": {
      "text/plain": [
       "[('Suicide', 0.9895569086074829),\n",
       " ('documentary', 0.9814968109130859),\n",
       " ('Survival', 0.9715716242790222),\n",
       " ('UNRWA', 0.9706627726554871),\n",
       " ('loans', 0.968593955039978),\n",
       " ('Imports', 0.9677640199661255),\n",
       " ('Gross', 0.957078218460083),\n",
       " ('shipments', 0.9545134902000427),\n",
       " ('Market', 0.9509927034378052),\n",
       " ('food', 0.9504662752151489)]"
      ]
     },
     "execution_count": 14,
     "metadata": {},
     "output_type": "execute_result"
    }
   ],
   "source": [
    "model.wv.most_similar ('government')"
   ]
  },
  {
   "cell_type": "code",
   "execution_count": 12,
   "metadata": {},
   "outputs": [
    {
     "data": {
      "text/plain": [
       "array([ 0.064179  ,  0.03314259, -0.00698101, -0.02683746], dtype=float32)"
      ]
     },
     "execution_count": 12,
     "metadata": {},
     "output_type": "execute_result"
    }
   ],
   "source": [
    "model.wv['Access']"
   ]
  },
  {
   "cell_type": "markdown",
   "metadata": {},
   "source": [
    "## Vectorisation"
   ]
  },
  {
   "cell_type": "code",
   "execution_count": 6,
   "metadata": {},
   "outputs": [],
   "source": [
    "#apply tf-idf vectorization\n",
    "\n",
    "v = tfidf()\n",
    "v1 = v.fit_transform(unique_indicators)\n",
    "arr = v1.toarray()"
   ]
  },
  {
   "cell_type": "markdown",
   "metadata": {},
   "source": [
    "## PCA and k-means"
   ]
  },
  {
   "cell_type": "code",
   "execution_count": 7,
   "metadata": {},
   "outputs": [
    {
     "data": {
      "text/html": [
       "<div>\n",
       "<style scoped>\n",
       "    .dataframe tbody tr th:only-of-type {\n",
       "        vertical-align: middle;\n",
       "    }\n",
       "\n",
       "    .dataframe tbody tr th {\n",
       "        vertical-align: top;\n",
       "    }\n",
       "\n",
       "    .dataframe thead th {\n",
       "        text-align: right;\n",
       "    }\n",
       "</style>\n",
       "<table border=\"1\" class=\"dataframe\">\n",
       "  <thead>\n",
       "    <tr style=\"text-align: right;\">\n",
       "      <th></th>\n",
       "      <th>x</th>\n",
       "      <th>y</th>\n",
       "    </tr>\n",
       "  </thead>\n",
       "  <tbody>\n",
       "    <tr>\n",
       "      <th>0</th>\n",
       "      <td>-0.053093</td>\n",
       "      <td>-0.003928</td>\n",
       "    </tr>\n",
       "    <tr>\n",
       "      <th>1</th>\n",
       "      <td>-0.058078</td>\n",
       "      <td>-0.005259</td>\n",
       "    </tr>\n",
       "    <tr>\n",
       "      <th>2</th>\n",
       "      <td>-0.052967</td>\n",
       "      <td>-0.004277</td>\n",
       "    </tr>\n",
       "    <tr>\n",
       "      <th>3</th>\n",
       "      <td>-0.051594</td>\n",
       "      <td>-0.003552</td>\n",
       "    </tr>\n",
       "    <tr>\n",
       "      <th>4</th>\n",
       "      <td>-0.067034</td>\n",
       "      <td>0.024567</td>\n",
       "    </tr>\n",
       "  </tbody>\n",
       "</table>\n",
       "</div>"
      ],
      "text/plain": [
       "          x         y\n",
       "0 -0.053093 -0.003928\n",
       "1 -0.058078 -0.005259\n",
       "2 -0.052967 -0.004277\n",
       "3 -0.051594 -0.003552\n",
       "4 -0.067034  0.024567"
      ]
     },
     "execution_count": 7,
     "metadata": {},
     "output_type": "execute_result"
    }
   ],
   "source": [
    "pca = PCA (n_components=2)\n",
    "pcom = pca.fit_transform(arr)\n",
    "principaldf = pd.DataFrame(data = pcom, columns = ['x', 'y'])\n",
    "principaldf.head()"
   ]
  },
  {
   "cell_type": "code",
   "execution_count": 8,
   "metadata": {},
   "outputs": [
    {
     "data": {
      "image/png": "[encoded data removed]",
      "text/plain": [
       "<Figure size 432x432 with 1 Axes>"
      ]
     },
     "metadata": {
      "needs_background": "light"
     },
     "output_type": "display_data"
    }
   ],
   "source": [
    "#implement elbow method\n",
    "\n",
    "sse = []\n",
    "list_k = list(range(1, 20))\n",
    "\n",
    "for k in list_k:\n",
    "    km = KMeans(n_clusters=k)\n",
    "    km.fit(principaldf)\n",
    "    sse.append(km.inertia_)\n",
    "\n",
    "# Plot sse against k\n",
    "plt.figure(figsize=(6, 6))\n",
    "plt.plot(list_k, sse, '-o')\n",
    "plt.xlabel(r'Number of clusters')\n",
    "plt.ylabel('Sum of squared distance');"
   ]
  },
  {
   "cell_type": "code",
   "execution_count": 9,
   "metadata": {},
   "outputs": [],
   "source": [
    "#apply k-means\n",
    "\n",
    "Kmean = KMeans (n_clusters = 5,random_state=0)\n",
    "cluster=Kmean.fit_predict (principaldf)"
   ]
  },
  {
   "cell_type": "code",
   "execution_count": 12,
   "metadata": {},
   "outputs": [],
   "source": [
    "cluster = pd.Series(cluster)"
   ]
  },
  {
   "cell_type": "code",
   "execution_count": 22,
   "metadata": {},
   "outputs": [],
   "source": [
    "df2 = pd.concat([df.loc[0:1439,'Indicator_Name'], cluster], axis=1)"
   ]
  },
  {
   "cell_type": "code",
   "execution_count": 24,
   "metadata": {},
   "outputs": [
    {
     "data": {
      "text/html": [
       "<div>\n",
       "<style scoped>\n",
       "    .dataframe tbody tr th:only-of-type {\n",
       "        vertical-align: middle;\n",
       "    }\n",
       "\n",
       "    .dataframe tbody tr th {\n",
       "        vertical-align: top;\n",
       "    }\n",
       "\n",
       "    .dataframe thead th {\n",
       "        text-align: right;\n",
       "    }\n",
       "</style>\n",
       "<table border=\"1\" class=\"dataframe\">\n",
       "  <thead>\n",
       "    <tr style=\"text-align: right;\">\n",
       "      <th></th>\n",
       "      <th>Indicator_Name</th>\n",
       "      <th>0</th>\n",
       "    </tr>\n",
       "  </thead>\n",
       "  <tbody>\n",
       "    <tr>\n",
       "      <th>1435</th>\n",
       "      <td>Personal remittances, received (current US$)</td>\n",
       "      <td>4</td>\n",
       "    </tr>\n",
       "    <tr>\n",
       "      <th>1436</th>\n",
       "      <td>Personal transfers, receipts (BoP, current US$)</td>\n",
       "      <td>4</td>\n",
       "    </tr>\n",
       "    <tr>\n",
       "      <th>1437</th>\n",
       "      <td>Physicians (per 1,000 people)</td>\n",
       "      <td>4</td>\n",
       "    </tr>\n",
       "    <tr>\n",
       "      <th>1438</th>\n",
       "      <td>Plant species (higher), threatened</td>\n",
       "      <td>4</td>\n",
       "    </tr>\n",
       "    <tr>\n",
       "      <th>1439</th>\n",
       "      <td>PM2.5 air pollution, mean annual exposure (mic...</td>\n",
       "      <td>3</td>\n",
       "    </tr>\n",
       "  </tbody>\n",
       "</table>\n",
       "</div>"
      ],
      "text/plain": [
       "                                         Indicator_Name  0\n",
       "1435       Personal remittances, received (current US$)  4\n",
       "1436    Personal transfers, receipts (BoP, current US$)  4\n",
       "1437                      Physicians (per 1,000 people)  4\n",
       "1438                 Plant species (higher), threatened  4\n",
       "1439  PM2.5 air pollution, mean annual exposure (mic...  3"
      ]
     },
     "execution_count": 24,
     "metadata": {},
     "output_type": "execute_result"
    }
   ],
   "source": [
    "df2.tail()"
   ]
  },
  {
   "cell_type": "code",
   "execution_count": 28,
   "metadata": {},
   "outputs": [],
   "source": [
    "df2.to_csv('C:\\\\Users\\\\Gunisha Chaturvedi\\\\Dropbox\\\\My PC (LAPTOP-1CT80JS5)\\\\Documents\\\\minor\\\\newclusters.csv')"
   ]
  },
  {
   "cell_type": "code",
   "execution_count": 25,
   "metadata": {},
   "outputs": [
    {
     "data": {
      "text/html": [
       "<div>\n",
       "<style scoped>\n",
       "    .dataframe tbody tr th:only-of-type {\n",
       "        vertical-align: middle;\n",
       "    }\n",
       "\n",
       "    .dataframe tbody tr th {\n",
       "        vertical-align: top;\n",
       "    }\n",
       "\n",
       "    .dataframe thead th {\n",
       "        text-align: right;\n",
       "    }\n",
       "</style>\n",
       "<table border=\"1\" class=\"dataframe\">\n",
       "  <thead>\n",
       "    <tr style=\"text-align: right;\">\n",
       "      <th></th>\n",
       "      <th>x</th>\n",
       "      <th>y</th>\n",
       "      <th>Cluster</th>\n",
       "    </tr>\n",
       "  </thead>\n",
       "  <tbody>\n",
       "    <tr>\n",
       "      <th>0</th>\n",
       "      <td>-0.053093</td>\n",
       "      <td>-0.003928</td>\n",
       "      <td>0</td>\n",
       "    </tr>\n",
       "    <tr>\n",
       "      <th>1</th>\n",
       "      <td>-0.058078</td>\n",
       "      <td>-0.005259</td>\n",
       "      <td>0</td>\n",
       "    </tr>\n",
       "    <tr>\n",
       "      <th>2</th>\n",
       "      <td>-0.052967</td>\n",
       "      <td>-0.004277</td>\n",
       "      <td>0</td>\n",
       "    </tr>\n",
       "    <tr>\n",
       "      <th>3</th>\n",
       "      <td>-0.051594</td>\n",
       "      <td>-0.003552</td>\n",
       "      <td>0</td>\n",
       "    </tr>\n",
       "    <tr>\n",
       "      <th>4</th>\n",
       "      <td>-0.067034</td>\n",
       "      <td>0.024567</td>\n",
       "      <td>0</td>\n",
       "    </tr>\n",
       "  </tbody>\n",
       "</table>\n",
       "</div>"
      ],
      "text/plain": [
       "          x         y  Cluster\n",
       "0 -0.053093 -0.003928        0\n",
       "1 -0.058078 -0.005259        0\n",
       "2 -0.052967 -0.004277        0\n",
       "3 -0.051594 -0.003552        0\n",
       "4 -0.067034  0.024567        0"
      ]
     },
     "execution_count": 25,
     "metadata": {},
     "output_type": "execute_result"
    }
   ],
   "source": [
    "new_df = pd.concat([principaldf,cluster], axis=1)\n",
    "new_df.rename(columns={0:'Cluster'},inplace=True)\n",
    "new_df.head()"
   ]
  },
  {
   "cell_type": "code",
   "execution_count": 30,
   "metadata": {},
   "outputs": [
    {
     "data": {
      "text/plain": [
       "0     0\n",
       "1     0\n",
       "2     0\n",
       "3     0\n",
       "4     0\n",
       "5     0\n",
       "6     0\n",
       "7     0\n",
       "8     0\n",
       "9     0\n",
       "10    0\n",
       "11    0\n",
       "12    0\n",
       "13    0\n",
       "14    0\n",
       "15    0\n",
       "16    4\n",
       "17    4\n",
       "18    4\n",
       "19    4\n",
       "dtype: int32"
      ]
     },
     "execution_count": 30,
     "metadata": {},
     "output_type": "execute_result"
    }
   ],
   "source": [
    "cluster.head(20)"
   ]
  },
  {
   "cell_type": "code",
   "execution_count": 47,
   "metadata": {},
   "outputs": [],
   "source": [
    "unique_indicators_df = pd.DataFrame (unique_indicators, columns= ['Indicator_Name'])"
   ]
  },
  {
   "cell_type": "code",
   "execution_count": 52,
   "metadata": {},
   "outputs": [],
   "source": [
    "df_final = pd.concat ([unique_indicators_df, new_df], axis=1)"
   ]
  },
  {
   "cell_type": "code",
   "execution_count": 55,
   "metadata": {},
   "outputs": [
    {
     "data": {
      "text/html": [
       "<div>\n",
       "<style scoped>\n",
       "    .dataframe tbody tr th:only-of-type {\n",
       "        vertical-align: middle;\n",
       "    }\n",
       "\n",
       "    .dataframe tbody tr th {\n",
       "        vertical-align: top;\n",
       "    }\n",
       "\n",
       "    .dataframe thead th {\n",
       "        text-align: right;\n",
       "    }\n",
       "</style>\n",
       "<table border=\"1\" class=\"dataframe\">\n",
       "  <thead>\n",
       "    <tr style=\"text-align: right;\">\n",
       "      <th></th>\n",
       "      <th>Indicator_Name</th>\n",
       "      <th>x</th>\n",
       "      <th>y</th>\n",
       "      <th>Cluster</th>\n",
       "    </tr>\n",
       "  </thead>\n",
       "  <tbody>\n",
       "    <tr>\n",
       "      <th>0</th>\n",
       "      <td>Access clean fuels technologies cooking</td>\n",
       "      <td>-0.053096</td>\n",
       "      <td>-0.003290</td>\n",
       "      <td>1</td>\n",
       "    </tr>\n",
       "    <tr>\n",
       "      <th>1</th>\n",
       "      <td>Access electricity</td>\n",
       "      <td>-0.058083</td>\n",
       "      <td>-0.004177</td>\n",
       "      <td>1</td>\n",
       "    </tr>\n",
       "    <tr>\n",
       "      <th>2</th>\n",
       "      <td>Access electricity rural</td>\n",
       "      <td>-0.052971</td>\n",
       "      <td>-0.002681</td>\n",
       "      <td>1</td>\n",
       "    </tr>\n",
       "    <tr>\n",
       "      <th>3</th>\n",
       "      <td>Access electricity urban</td>\n",
       "      <td>-0.051598</td>\n",
       "      <td>-0.001911</td>\n",
       "      <td>1</td>\n",
       "    </tr>\n",
       "    <tr>\n",
       "      <th>4</th>\n",
       "      <td>Account ownership financial institution mobile...</td>\n",
       "      <td>-0.067046</td>\n",
       "      <td>0.026517</td>\n",
       "      <td>1</td>\n",
       "    </tr>\n",
       "  </tbody>\n",
       "</table>\n",
       "</div>"
      ],
      "text/plain": [
       "                                      Indicator_Name         x         y  \\\n",
       "0            Access clean fuels technologies cooking -0.053096 -0.003290   \n",
       "1                                 Access electricity -0.058083 -0.004177   \n",
       "2                           Access electricity rural -0.052971 -0.002681   \n",
       "3                           Access electricity urban -0.051598 -0.001911   \n",
       "4  Account ownership financial institution mobile... -0.067046  0.026517   \n",
       "\n",
       "   Cluster  \n",
       "0        1  \n",
       "1        1  \n",
       "2        1  \n",
       "3        1  \n",
       "4        1  "
      ]
     },
     "execution_count": 55,
     "metadata": {},
     "output_type": "execute_result"
    }
   ],
   "source": [
    "df_final.head()"
   ]
  },
  {
   "cell_type": "markdown",
   "metadata": {},
   "source": [
    "## Evaluation metrics- Dunn Index and Silhouette Score"
   ]
  },
  {
   "cell_type": "code",
   "execution_count": 58,
   "metadata": {},
   "outputs": [],
   "source": [
    "#code to calculate numerator\n",
    "#calculate pairwise distances between cluster centers\n",
    "\n",
    "centers = Kmean.cluster_centers_\n",
    "d_mat = p_dist(centers, metric= 'euclidean')\n",
    "\n",
    "#remove duplicates and get min distance\n",
    "d_mat_unique = set(d_mat.flatten()) \n",
    "d_mat_unique.remove(0)\n",
    "inter_cluster_dist = min(d_mat_unique)"
   ]
  },
  {
   "cell_type": "code",
   "execution_count": 60,
   "metadata": {},
   "outputs": [
    {
     "name": "stdout",
     "output_type": "stream",
     "text": [
      "0.39687119734012266\n"
     ]
    }
   ],
   "source": [
    "#code to calculate denominator\n",
    "\n",
    "dist_list = []\n",
    "n_clusters = 5\n",
    "for j in range(0,n_clusters):\n",
    "    cluster_points = df_final[['x','y']][df_final['Cluster']== j]\n",
    "    dist_mat = p_dist (cluster_points)\n",
    "    dist_mat_unique = set(dist_mat.flatten()) \n",
    "    max1 = max(dist_mat_unique)\n",
    "    dist_list.append (max1)\n",
    "\n",
    "intra_cluster_dist = max(dist_list)\n",
    "d_index = (inter_cluster_dist/intra_cluster_dist)\n",
    "print (d_index)"
   ]
  },
  {
   "cell_type": "code",
   "execution_count": 61,
   "metadata": {},
   "outputs": [
    {
     "name": "stdout",
     "output_type": "stream",
     "text": [
      "0.6411448775523271\n"
     ]
    }
   ],
   "source": [
    "#calculate silhouette score\n",
    "print(sc(principaldf,cluster))"
   ]
  },
  {
   "cell_type": "markdown",
   "metadata": {},
   "source": [
    "## Visualize clusters"
   ]
  },
  {
   "cell_type": "code",
   "execution_count": 62,
   "metadata": {},
   "outputs": [
    {
     "data": {
      "image/png": "[encoded data removed]",
      "text/plain": [
       "<Figure size 432x288 with 1 Axes>"
      ]
     },
     "metadata": {
      "needs_background": "light"
     },
     "output_type": "display_data"
    }
   ],
   "source": [
    "plt.scatter(df_final['x'], df_final['y'], c=cluster, s=50, cmap='viridis')\n",
    "plt.scatter(centers[:, 0], centers[:, 1], c='black', s=200, alpha=0.5);"
   ]
  },
  {
   "cell_type": "markdown",
   "metadata": {},
   "source": [
    "## Visualisations"
   ]
  },
  {
   "cell_type": "code",
   "execution_count": null,
   "metadata": {},
   "outputs": [],
   "source": [
    "#stacked bar graph\n",
    "\n",
    "df1=df.where((df['Indicator_Code']=='SL.TLF.0714.WK.ZS') | (df['Indicator_Code']=='SL.TLF.0714.SW.ZS'))\n",
    "df1.dropna(how='all',inplace=True)\n",
    "print(df1.shape)\n",
    "print(df1.head(10))\n",
    "df1.to_csv('C:/Users/hp1/Documents/minor/education1.csv')"
   ]
  }
 ],
 "metadata": {
  "kernelspec": {
   "display_name": "Python 3",
   "language": "python",
   "name": "python3"
  },
  "language_info": {
   "codemirror_mode": {
    "name": "ipython",
    "version": 3
   },
   "file_extension": ".py",
   "mimetype": "text/x-python",
   "name": "python",
   "nbconvert_exporter": "python",
   "pygments_lexer": "ipython3",
   "version": "3.7.1"
  }
 },
 "nbformat": 4,
 "nbformat_minor": 2
}
